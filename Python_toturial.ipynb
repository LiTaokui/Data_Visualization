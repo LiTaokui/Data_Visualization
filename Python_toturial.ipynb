{
  "nbformat": 4,
  "nbformat_minor": 0,
  "metadata": {
    "colab": {
      "name": "Python toturial.ipynb",
      "provenance": [],
      "authorship_tag": "ABX9TyOxiik+1Ldf4fsjAzM17NrS",
      "include_colab_link": true
    },
    "kernelspec": {
      "name": "python3",
      "display_name": "Python 3"
    },
    "language_info": {
      "name": "python"
    },
    "accelerator": "GPU"
  },
  "cells": [
    {
      "cell_type": "markdown",
      "metadata": {
        "id": "view-in-github",
        "colab_type": "text"
      },
      "source": [
        "<a href=\"https://colab.research.google.com/github/LiTaokui/Data_Visualization/blob/main/Python_toturial.ipynb\" target=\"_parent\"><img src=\"https://colab.research.google.com/assets/colab-badge.svg\" alt=\"Open In Colab\"/></a>"
      ]
    },
    {
      "cell_type": "code",
      "execution_count": 5,
      "metadata": {
        "colab": {
          "base_uri": "https://localhost:8080/"
        },
        "id": "wC_72uHf6Kjl",
        "outputId": "2fc47fa2-f66b-43fb-ac0a-e1a76f7d57c9"
      },
      "outputs": [
        {
          "output_type": "stream",
          "name": "stdout",
          "text": [
            "10\n"
          ]
        }
      ],
      "source": [
        "price = 10\n",
        "rating = 4.9\n",
        "name = \"Mosh\"\n",
        "is_published = False\n",
        "print(price)"
      ]
    },
    {
      "cell_type": "code",
      "source": [
        "name = \"john\"\n",
        "age = 20\n",
        "is_new = True"
      ],
      "metadata": {
        "id": "9nOFHpd7PaV4"
      },
      "execution_count": 7,
      "outputs": []
    },
    {
      "cell_type": "code",
      "source": [
        "name = input(\"what is your name?\")\n",
        "print(\"hi\" + name)"
      ],
      "metadata": {
        "colab": {
          "base_uri": "https://localhost:8080/"
        },
        "id": "VS2wBTqZQe5B",
        "outputId": "edc08df5-2827-43da-e32b-df71703d3fa9"
      },
      "execution_count": 11,
      "outputs": [
        {
          "output_type": "stream",
          "name": "stdout",
          "text": [
            "what is your name?mosh\n",
            "himosh\n"
          ]
        }
      ]
    },
    {
      "cell_type": "code",
      "source": [
        "name = input(\"what is your name?\")\n",
        "color = input(\"what is your favorite color?\")\n",
        "print(name + \" likes \" + color)"
      ],
      "metadata": {
        "colab": {
          "base_uri": "https://localhost:8080/"
        },
        "id": "LQwYi60sQ9Ng",
        "outputId": "cc80c9a4-4ad3-4b29-d2ed-95fa7047dec2"
      },
      "execution_count": 13,
      "outputs": [
        {
          "output_type": "stream",
          "name": "stdout",
          "text": [
            "what is your name?taco\n",
            "what is your favorite color?blue\n",
            "taco likes blue\n"
          ]
        }
      ]
    },
    {
      "cell_type": "code",
      "source": [
        " birth_year = input(\"birth year:\")\n",
        " age = 2022 - int(birth_year)\n",
        " print(age)"
      ],
      "metadata": {
        "colab": {
          "base_uri": "https://localhost:8080/"
        },
        "id": "s5NqCME6Rv0V",
        "outputId": "d4af7437-445d-473b-f49d-3f3d8b24f77f"
      },
      "execution_count": 39,
      "outputs": [
        {
          "output_type": "stream",
          "name": "stdout",
          "text": [
            "birth year:1972\n",
            "50\n"
          ]
        }
      ]
    },
    {
      "cell_type": "code",
      "source": [
        "print(type(birth_year))"
      ],
      "metadata": {
        "colab": {
          "base_uri": "https://localhost:8080/"
        },
        "id": "d6M1pB9XT0Lr",
        "outputId": "b94d1b18-41a1-4f05-e701-59da88ead72e"
      },
      "execution_count": 19,
      "outputs": [
        {
          "output_type": "stream",
          "name": "stdout",
          "text": [
            "<class 'str'>\n"
          ]
        }
      ]
    },
    {
      "cell_type": "code",
      "source": [
        "print(type(age))"
      ],
      "metadata": {
        "colab": {
          "base_uri": "https://localhost:8080/"
        },
        "id": "KMUcro7QU2Ty",
        "outputId": "32715c87-002d-4e1b-b5f2-787af52581a7"
      },
      "execution_count": 18,
      "outputs": [
        {
          "output_type": "stream",
          "name": "stdout",
          "text": [
            "<class 'int'>\n"
          ]
        }
      ]
    },
    {
      "cell_type": "code",
      "source": [
        "print(type(int(birth_year)))"
      ],
      "metadata": {
        "colab": {
          "base_uri": "https://localhost:8080/"
        },
        "id": "rrUlJm6oU8yq",
        "outputId": "37b035d5-0833-47bd-f9e9-8838f733c756"
      },
      "execution_count": 20,
      "outputs": [
        {
          "output_type": "stream",
          "name": "stdout",
          "text": [
            "<class 'int'>\n"
          ]
        }
      ]
    },
    {
      "cell_type": "code",
      "source": [
        "pound = input(\"pounds:\")\n",
        "kilograms = 0.45359237*(int(pound))\n",
        "print(kilograms)"
      ],
      "metadata": {
        "colab": {
          "base_uri": "https://localhost:8080/"
        },
        "id": "wLJ1MsVpVM6U",
        "outputId": "0d919f8c-b8e8-4515-9b1f-5c2efa3716a6"
      },
      "execution_count": 22,
      "outputs": [
        {
          "output_type": "stream",
          "name": "stdout",
          "text": [
            "pounds:100\n",
            "45.359237\n"
          ]
        }
      ]
    },
    {
      "cell_type": "code",
      "source": [
        "course = \"Python's course for beginners\"\n",
        "print(course)"
      ],
      "metadata": {
        "colab": {
          "base_uri": "https://localhost:8080/"
        },
        "id": "HkVstUqzXS1h",
        "outputId": "688096e9-1e85-4d96-b59b-890567c8d734"
      },
      "execution_count": 24,
      "outputs": [
        {
          "output_type": "stream",
          "name": "stdout",
          "text": [
            "Python's course for beginners\n"
          ]
        }
      ]
    },
    {
      "cell_type": "code",
      "source": [
        "course = 'Python course for \"beginners\"'\n",
        "print(course)"
      ],
      "metadata": {
        "colab": {
          "base_uri": "https://localhost:8080/"
        },
        "id": "fCm4rAi0XhfT",
        "outputId": "d01d3213-62c3-4841-ac97-62c4a03eed43"
      },
      "execution_count": 26,
      "outputs": [
        {
          "output_type": "stream",
          "name": "stdout",
          "text": [
            "Python course for \"beginners\"\n"
          ]
        }
      ]
    },
    {
      "cell_type": "code",
      "source": [
        "course = '''\n",
        "hi taco\n",
        "\n",
        "i like to see you in friday\n",
        "\n",
        "best,\n",
        "\n",
        "lam\n",
        "'''\n",
        "print(course)"
      ],
      "metadata": {
        "colab": {
          "base_uri": "https://localhost:8080/"
        },
        "id": "zJl4WVdNXr9z",
        "outputId": "05d0e21d-d9b3-48d3-8b52-d926a0a48065"
      },
      "execution_count": 27,
      "outputs": [
        {
          "output_type": "stream",
          "name": "stdout",
          "text": [
            "\n",
            "hi taco\n",
            "\n",
            "i like to see you in friday\n",
            "\n",
            "best,\n",
            "\n",
            "lam\n",
            "\n"
          ]
        }
      ]
    },
    {
      "cell_type": "code",
      "source": [
        "course = \"python for beginner\"\n",
        "print(course[-1])"
      ],
      "metadata": {
        "colab": {
          "base_uri": "https://localhost:8080/"
        },
        "id": "K2bCqN4kYI8j",
        "outputId": "7c5f64b4-9ba3-4be0-a2e2-a22fb252b3f0"
      },
      "execution_count": 40,
      "outputs": [
        {
          "output_type": "stream",
          "name": "stdout",
          "text": [
            "r\n"
          ]
        }
      ]
    },
    {
      "cell_type": "code",
      "source": [
        "course = \"python for beginner\"\n",
        "print(course[0:3])"
      ],
      "metadata": {
        "colab": {
          "base_uri": "https://localhost:8080/"
        },
        "id": "51aCwyyzYSi1",
        "outputId": "2b137f6f-f499-41d8-9949-89d554e39c2d"
      },
      "execution_count": 34,
      "outputs": [
        {
          "output_type": "stream",
          "name": "stdout",
          "text": [
            "pyt\n"
          ]
        }
      ]
    },
    {
      "cell_type": "code",
      "source": [
        "course = \"python for beginner\"\n",
        "print(course[0:])"
      ],
      "metadata": {
        "colab": {
          "base_uri": "https://localhost:8080/"
        },
        "id": "dBAmomewZrq-",
        "outputId": "09fc7226-e4bf-4c22-8b54-05e998bab816"
      },
      "execution_count": 35,
      "outputs": [
        {
          "output_type": "stream",
          "name": "stdout",
          "text": [
            "python for beginner\n"
          ]
        }
      ]
    },
    {
      "cell_type": "code",
      "source": [
        "course = \"python for beginner\"\n",
        "print(course[1:])"
      ],
      "metadata": {
        "colab": {
          "base_uri": "https://localhost:8080/"
        },
        "id": "ls3UL6apZy3Q",
        "outputId": "42162dcd-4990-4a03-b2b9-e84567f34492"
      },
      "execution_count": 36,
      "outputs": [
        {
          "output_type": "stream",
          "name": "stdout",
          "text": [
            "ython for beginner\n"
          ]
        }
      ]
    },
    {
      "cell_type": "code",
      "source": [
        "course = \"python for beginner\"\n",
        "print(course[:2])"
      ],
      "metadata": {
        "colab": {
          "base_uri": "https://localhost:8080/"
        },
        "id": "2CjOD05FZ1yr",
        "outputId": "de5356f8-aaad-4ba1-b2f5-11a9ee01f0d0"
      },
      "execution_count": 37,
      "outputs": [
        {
          "output_type": "stream",
          "name": "stdout",
          "text": [
            "py\n"
          ]
        }
      ]
    },
    {
      "cell_type": "code",
      "source": [
        "course = \"python for beginner\"\n",
        "another = course[:]\n",
        "print(another)"
      ],
      "metadata": {
        "colab": {
          "base_uri": "https://localhost:8080/"
        },
        "id": "L9jS2rFVZ5pY",
        "outputId": "63a9c91b-509b-4c2f-ad78-e4af5b8659c6"
      },
      "execution_count": 39,
      "outputs": [
        {
          "output_type": "stream",
          "name": "stdout",
          "text": [
            "python for beginner\n"
          ]
        }
      ]
    },
    {
      "cell_type": "code",
      "source": [
        "name = \"jennifer\"\n",
        "print(name[1:-1])"
      ],
      "metadata": {
        "colab": {
          "base_uri": "https://localhost:8080/"
        },
        "id": "Dn0zlnTpaInp",
        "outputId": "1add88df-06ab-4df9-d2dd-4a028fb85d77"
      },
      "execution_count": 41,
      "outputs": [
        {
          "output_type": "stream",
          "name": "stdout",
          "text": [
            "ennife\n"
          ]
        }
      ]
    },
    {
      "cell_type": "code",
      "source": [
        "first = \"john\"\n",
        "last = \"smith\"\n",
        "message = first + \" [\" + last + \"]\" + \" is a coder\"\n",
        "print(message)"
      ],
      "metadata": {
        "colab": {
          "base_uri": "https://localhost:8080/"
        },
        "id": "4VLbHImfkc81",
        "outputId": "ba1b5859-8040-4ec2-e85b-e8bad001cfb5"
      },
      "execution_count": 5,
      "outputs": [
        {
          "output_type": "stream",
          "name": "stdout",
          "text": [
            "john [smith] is a coder\n"
          ]
        }
      ]
    },
    {
      "cell_type": "code",
      "source": [
        "first = \"john\"\n",
        "last = \"smith\"\n",
        "message = f'{first} [{last}] is a coder'\n",
        "print(message)"
      ],
      "metadata": {
        "colab": {
          "base_uri": "https://localhost:8080/"
        },
        "id": "bk90mGlqacWc",
        "outputId": "11d173f1-73ec-4ed5-ab06-91fa152eee33"
      },
      "execution_count": 3,
      "outputs": [
        {
          "output_type": "stream",
          "name": "stdout",
          "text": [
            "john [smith] is a coder\n"
          ]
        }
      ]
    },
    {
      "cell_type": "code",
      "source": [
        "course = \"Python for Beginners\"\n",
        "len(course)\n",
        "print(len(course))"
      ],
      "metadata": {
        "colab": {
          "base_uri": "https://localhost:8080/"
        },
        "id": "3VJ0y7ryjyWs",
        "outputId": "72ca2075-1173-46e1-aac9-61cc744e0283"
      },
      "execution_count": 10,
      "outputs": [
        {
          "output_type": "stream",
          "name": "stdout",
          "text": [
            "20\n"
          ]
        }
      ]
    },
    {
      "cell_type": "code",
      "source": [
        "course = \"Python for Beginners\"\n",
        "course.upper()"
      ],
      "metadata": {
        "colab": {
          "base_uri": "https://localhost:8080/",
          "height": 35
        },
        "id": "6U6VgsCjl_ws",
        "outputId": "1abe92f0-cf6c-48f5-8090-d581b5abb10f"
      },
      "execution_count": 13,
      "outputs": [
        {
          "output_type": "execute_result",
          "data": {
            "text/plain": [
              "'PYTHON FOR BEGINNERS'"
            ],
            "application/vnd.google.colaboratory.intrinsic+json": {
              "type": "string"
            }
          },
          "metadata": {},
          "execution_count": 13
        }
      ]
    },
    {
      "cell_type": "code",
      "source": [
        "print(course)"
      ],
      "metadata": {
        "colab": {
          "base_uri": "https://localhost:8080/"
        },
        "id": "J7iKHsPzn24b",
        "outputId": "56700779-9e37-454f-ea5f-ef9e3b5e6210"
      },
      "execution_count": 15,
      "outputs": [
        {
          "output_type": "stream",
          "name": "stdout",
          "text": [
            "Python for Beginners\n"
          ]
        }
      ]
    },
    {
      "cell_type": "code",
      "source": [
        "course = \"Python for Beginners\"\n",
        "course.lower()"
      ],
      "metadata": {
        "colab": {
          "base_uri": "https://localhost:8080/",
          "height": 35
        },
        "id": "r4e78jnOn7Hv",
        "outputId": "8ea3dfec-b2c7-4721-e0cc-b79e74152380"
      },
      "execution_count": 17,
      "outputs": [
        {
          "output_type": "execute_result",
          "data": {
            "text/plain": [
              "'python for beginners'"
            ],
            "application/vnd.google.colaboratory.intrinsic+json": {
              "type": "string"
            }
          },
          "metadata": {},
          "execution_count": 17
        }
      ]
    },
    {
      "cell_type": "code",
      "source": [
        "print(course.find(\"Beginners\"))"
      ],
      "metadata": {
        "colab": {
          "base_uri": "https://localhost:8080/"
        },
        "id": "Wn1_lpLnn-Ar",
        "outputId": "5ff596c0-5752-4ca3-efeb-d8c5a1136fa2"
      },
      "execution_count": 19,
      "outputs": [
        {
          "output_type": "stream",
          "name": "stdout",
          "text": [
            "11\n"
          ]
        }
      ]
    },
    {
      "cell_type": "code",
      "source": [
        "print(course.replace(\"Beginners\", \"taco\"))"
      ],
      "metadata": {
        "colab": {
          "base_uri": "https://localhost:8080/"
        },
        "id": "_dPqdhxEoG77",
        "outputId": "1a9f95e9-5a28-406e-bd5d-3ee91c750346"
      },
      "execution_count": 23,
      "outputs": [
        {
          "output_type": "stream",
          "name": "stdout",
          "text": [
            "Python for taco\n"
          ]
        }
      ]
    },
    {
      "cell_type": "code",
      "source": [
        "print(\"Python\" in course)"
      ],
      "metadata": {
        "colab": {
          "base_uri": "https://localhost:8080/"
        },
        "id": "ohV02WvWsA6m",
        "outputId": "c79f9c90-730c-4947-ddf8-299d5e669549"
      },
      "execution_count": 27,
      "outputs": [
        {
          "output_type": "stream",
          "name": "stdout",
          "text": [
            "True\n"
          ]
        }
      ]
    },
    {
      "cell_type": "code",
      "source": [
        "course.find()\n",
        "course.title()\n",
        "course.replace()"
      ],
      "metadata": {
        "colab": {
          "base_uri": "https://localhost:8080/"
        },
        "id": "oHaRb4p2tKIt",
        "outputId": "abb8af69-17a1-41ee-b9ea-1ed319cb477c"
      },
      "execution_count": 30,
      "outputs": [
        {
          "output_type": "execute_result",
          "data": {
            "text/plain": [
              "0"
            ]
          },
          "metadata": {},
          "execution_count": 30
        }
      ]
    },
    {
      "cell_type": "code",
      "source": [
        "print(10 / 3)"
      ],
      "metadata": {
        "colab": {
          "base_uri": "https://localhost:8080/"
        },
        "id": "eqRL6Y6BtPJF",
        "outputId": "c32c9e76-4746-49b2-88cc-d74d87c29346"
      },
      "execution_count": 31,
      "outputs": [
        {
          "output_type": "stream",
          "name": "stdout",
          "text": [
            "3.3333333333333335\n"
          ]
        }
      ]
    },
    {
      "cell_type": "code",
      "source": [
        "print(10 // 3)"
      ],
      "metadata": {
        "colab": {
          "base_uri": "https://localhost:8080/"
        },
        "id": "31p9jROGuEeL",
        "outputId": "a3a4e7f4-3e3f-44bd-d98a-9a02ae24d855"
      },
      "execution_count": 32,
      "outputs": [
        {
          "output_type": "stream",
          "name": "stdout",
          "text": [
            "3\n"
          ]
        }
      ]
    },
    {
      "cell_type": "code",
      "source": [
        "print(10 % 3)"
      ],
      "metadata": {
        "colab": {
          "base_uri": "https://localhost:8080/"
        },
        "id": "SMi2ilXpuIrF",
        "outputId": "d4236ef4-849a-4fd7-d5a2-f9bf659fd9b8"
      },
      "execution_count": 33,
      "outputs": [
        {
          "output_type": "stream",
          "name": "stdout",
          "text": [
            "1\n"
          ]
        }
      ]
    },
    {
      "cell_type": "code",
      "source": [
        "print(10 ** 3)"
      ],
      "metadata": {
        "colab": {
          "base_uri": "https://localhost:8080/"
        },
        "id": "NzcqoR2MuL4R",
        "outputId": "fb331058-f192-4240-d15f-ffaaaef71a95"
      },
      "execution_count": 34,
      "outputs": [
        {
          "output_type": "stream",
          "name": "stdout",
          "text": [
            "1000\n"
          ]
        }
      ]
    },
    {
      "cell_type": "code",
      "source": [
        "x = 10\n",
        "x = x+3\n",
        "print(x)"
      ],
      "metadata": {
        "colab": {
          "base_uri": "https://localhost:8080/"
        },
        "id": "tpTbnznmuOvn",
        "outputId": "66b2c94f-151f-434c-eea3-bbf47cd33570"
      },
      "execution_count": 36,
      "outputs": [
        {
          "output_type": "stream",
          "name": "stdout",
          "text": [
            "13\n"
          ]
        }
      ]
    },
    {
      "cell_type": "code",
      "source": [
        "x = 10\n",
        "x += 3\n",
        "print(x)"
      ],
      "metadata": {
        "colab": {
          "base_uri": "https://localhost:8080/"
        },
        "id": "Zq5MlTgHuYI_",
        "outputId": "da9b5c6d-393d-4344-c856-a33c5cc81292"
      },
      "execution_count": 37,
      "outputs": [
        {
          "output_type": "stream",
          "name": "stdout",
          "text": [
            "13\n"
          ]
        }
      ]
    },
    {
      "cell_type": "code",
      "source": [
        "x = 10\n",
        "x -= 3\n",
        "print(x)"
      ],
      "metadata": {
        "colab": {
          "base_uri": "https://localhost:8080/"
        },
        "id": "-zsODukTue27",
        "outputId": "bf5232f3-9582-4b1a-931f-29651228ed13"
      },
      "execution_count": 38,
      "outputs": [
        {
          "output_type": "stream",
          "name": "stdout",
          "text": [
            "7\n"
          ]
        }
      ]
    },
    {
      "cell_type": "code",
      "source": [
        "x = 10 + 3*2\n",
        "x"
      ],
      "metadata": {
        "colab": {
          "base_uri": "https://localhost:8080/"
        },
        "id": "t5fa8bofukct",
        "outputId": "5af773ea-442a-40d0-a6d9-ed86660b4f60"
      },
      "execution_count": 41,
      "outputs": [
        {
          "output_type": "execute_result",
          "data": {
            "text/plain": [
              "16"
            ]
          },
          "metadata": {},
          "execution_count": 41
        }
      ]
    },
    {
      "cell_type": "code",
      "source": [
        "x= 10 + 3*2\n",
        "x"
      ],
      "metadata": {
        "colab": {
          "base_uri": "https://localhost:8080/"
        },
        "id": "awg5qGzhusnl",
        "outputId": "687d5139-e1f2-4377-a210-75e0ff589a0d"
      },
      "execution_count": 42,
      "outputs": [
        {
          "output_type": "execute_result",
          "data": {
            "text/plain": [
              "16"
            ]
          },
          "metadata": {},
          "execution_count": 42
        }
      ]
    },
    {
      "cell_type": "code",
      "source": [
        "x= 10 + 3*2**2\n",
        "x"
      ],
      "metadata": {
        "colab": {
          "base_uri": "https://localhost:8080/"
        },
        "id": "4e0bQYq10zO_",
        "outputId": "a53bd879-aab9-4689-c686-d3e1dbdd3384"
      },
      "execution_count": 43,
      "outputs": [
        {
          "output_type": "execute_result",
          "data": {
            "text/plain": [
              "22"
            ]
          },
          "metadata": {},
          "execution_count": 43
        }
      ]
    },
    {
      "cell_type": "code",
      "source": [
        "x = (2+3)*10-3\n",
        "x"
      ],
      "metadata": {
        "colab": {
          "base_uri": "https://localhost:8080/"
        },
        "id": "U9LBhIM50-q3",
        "outputId": "7cd7c17f-cbf0-4373-9107-be346dc1a2ae"
      },
      "execution_count": 52,
      "outputs": [
        {
          "output_type": "execute_result",
          "data": {
            "text/plain": [
              "47"
            ]
          },
          "metadata": {},
          "execution_count": 52
        }
      ]
    },
    {
      "cell_type": "code",
      "source": [
        "x = 2.9\n",
        "print(round(x))"
      ],
      "metadata": {
        "colab": {
          "base_uri": "https://localhost:8080/"
        },
        "id": "KEp_bBKx1j2g",
        "outputId": "95d419ec-bf6a-4fc2-9bd8-ac26651dafc8"
      },
      "execution_count": 53,
      "outputs": [
        {
          "output_type": "stream",
          "name": "stdout",
          "text": [
            "3\n"
          ]
        }
      ]
    },
    {
      "cell_type": "code",
      "source": [
        "x = -3\n",
        "print(abs(x))"
      ],
      "metadata": {
        "colab": {
          "base_uri": "https://localhost:8080/"
        },
        "id": "HX7kiOzFCKLG",
        "outputId": "59db7a86-5c63-42a1-c10b-df29613c6679"
      },
      "execution_count": 54,
      "outputs": [
        {
          "output_type": "stream",
          "name": "stdout",
          "text": [
            "3\n"
          ]
        }
      ]
    },
    {
      "cell_type": "code",
      "source": [
        "import math"
      ],
      "metadata": {
        "id": "LYF-ZN3YCNrG"
      },
      "execution_count": 55,
      "outputs": []
    },
    {
      "cell_type": "code",
      "source": [
        "print(math.ceil(2.1))"
      ],
      "metadata": {
        "colab": {
          "base_uri": "https://localhost:8080/"
        },
        "id": "gzvdVAuUCh3P",
        "outputId": "6467fdb5-16c4-4537-ceb5-02d65506bb5e"
      },
      "execution_count": 56,
      "outputs": [
        {
          "output_type": "stream",
          "name": "stdout",
          "text": [
            "3\n"
          ]
        }
      ]
    },
    {
      "cell_type": "code",
      "source": [
        "print(math.floor(2.1))"
      ],
      "metadata": {
        "colab": {
          "base_uri": "https://localhost:8080/"
        },
        "id": "IKvBl18iCoc1",
        "outputId": "cadafe71-0747-4576-8bc1-35f95be0bac9"
      },
      "execution_count": 57,
      "outputs": [
        {
          "output_type": "stream",
          "name": "stdout",
          "text": [
            "2\n"
          ]
        }
      ]
    },
    {
      "cell_type": "code",
      "source": [
        "#if it hot\n",
        "#  drink water\n",
        "#otherwise if it's cold\n",
        "#  wear cloth\n",
        "#otherwise\n",
        "#  go outside"
      ],
      "metadata": {
        "id": "vphBG-IXFAH4"
      },
      "execution_count": null,
      "outputs": []
    },
    {
      "cell_type": "code",
      "source": [
        "is_hot = True\n",
        "if is_hot:\n",
        "  print(\"it's a hot day\")\n",
        "  print(\"drink some water\")\n",
        "else:\n",
        "  print(\"wear cloth\")"
      ],
      "metadata": {
        "colab": {
          "base_uri": "https://localhost:8080/"
        },
        "id": "SdKQTHZMEf6V",
        "outputId": "4d0ecc01-8f86-4d31-c498-1cd417c26da2"
      },
      "execution_count": 67,
      "outputs": [
        {
          "output_type": "stream",
          "name": "stdout",
          "text": [
            "it's a hot day\n",
            "drink some water\n"
          ]
        }
      ]
    },
    {
      "cell_type": "code",
      "source": [
        "is_hot = True\n",
        "is_cold = False\n",
        "\n",
        "if is_hot:\n",
        "  print(\"it's a hot day\")\n",
        "  print(\"drink some water\")\n",
        "elif is_cold:\n",
        "  print(\"wear cloth\")\n",
        "else:\n",
        "  print(\"play around\")\n",
        "\n",
        "print(\"enjoy your day\")"
      ],
      "metadata": {
        "colab": {
          "base_uri": "https://localhost:8080/"
        },
        "id": "kBFQyAD-FQ-c",
        "outputId": "b9ef77be-f4ef-425b-886b-d957e6cd1d33"
      },
      "execution_count": 72,
      "outputs": [
        {
          "output_type": "stream",
          "name": "stdout",
          "text": [
            "it's a hot day\n",
            "drink some water\n",
            "enjoy your day\n"
          ]
        }
      ]
    },
    {
      "cell_type": "code",
      "source": [
        "is_good_credit = False\n",
        "\n",
        "house_price = 10**6\n",
        "\n",
        "if is_good_credit:\n",
        "  down_payment = 0.1*int(house_price)\n",
        "else:\n",
        "  down_payment = 0.2*int(house_price)\n",
        "\n",
        "print(f\"down payment: ${down_payment}\")"
      ],
      "metadata": {
        "colab": {
          "base_uri": "https://localhost:8080/"
        },
        "id": "dC28CfOzKucu",
        "outputId": "11b44ad9-4fc3-47bd-874f-e2703490f1f0"
      },
      "execution_count": 78,
      "outputs": [
        {
          "output_type": "stream",
          "name": "stdout",
          "text": [
            "down payment: $200000.0\n"
          ]
        }
      ]
    },
    {
      "cell_type": "code",
      "source": [
        "message = f\"first: {down_payment}\"\n",
        "print(message)"
      ],
      "metadata": {
        "colab": {
          "base_uri": "https://localhost:8080/"
        },
        "id": "vvyg0u62MXh8",
        "outputId": "37a6d6ef-55d7-4c11-bafd-8b14b6ce2091"
      },
      "execution_count": 82,
      "outputs": [
        {
          "output_type": "stream",
          "name": "stdout",
          "text": [
            "first: 200000.0\n"
          ]
        }
      ]
    },
    {
      "cell_type": "code",
      "source": [
        "has_high_income = True\n",
        "has_good_credit = False\n",
        "\n",
        "if has_high_income and has_good_credit:\n",
        "  print(\"eligible for loan\")\n",
        "else:\n",
        "  print(\"cannot eligible for loan\")"
      ],
      "metadata": {
        "colab": {
          "base_uri": "https://localhost:8080/"
        },
        "id": "wlqEsJnJM2tc",
        "outputId": "a7a9a678-1f56-48f9-d590-8ba5edfaea7c"
      },
      "execution_count": 3,
      "outputs": [
        {
          "output_type": "stream",
          "name": "stdout",
          "text": [
            "cannot eligible for loan\n"
          ]
        }
      ]
    },
    {
      "cell_type": "code",
      "source": [
        "has_high_income = False\n",
        "has_good_credit = False\n",
        "\n",
        "if has_high_income or has_good_credit:\n",
        "  print(\"eligible for loan\")\n",
        "else:\n",
        "  print(\"cannot eligible for loan\")"
      ],
      "metadata": {
        "colab": {
          "base_uri": "https://localhost:8080/"
        },
        "id": "MIOWafx_bvyK",
        "outputId": "4f51da0e-92f7-4fa6-a137-82142eb9c63e"
      },
      "execution_count": 5,
      "outputs": [
        {
          "output_type": "stream",
          "name": "stdout",
          "text": [
            "cannot eligible for loan\n"
          ]
        }
      ]
    },
    {
      "cell_type": "code",
      "source": [
        "has_good_credit = True\n",
        "has_criminal_record = False\n",
        "\n",
        "if has_high_income and not has_good_credit:\n",
        "  print(\"eligible for loan\")\n",
        "else:\n",
        "  print(\"cannot eligible for loan\")"
      ],
      "metadata": {
        "colab": {
          "base_uri": "https://localhost:8080/"
        },
        "id": "OpSB5E6tcZVa",
        "outputId": "d14e38aa-58f1-4f25-fbbf-69e4bcfedada"
      },
      "execution_count": 7,
      "outputs": [
        {
          "output_type": "stream",
          "name": "stdout",
          "text": [
            "cannot eligible for loan\n"
          ]
        }
      ]
    },
    {
      "cell_type": "code",
      "source": [
        "temperature = 30\n",
        "\n",
        "if temperature >= 30:\n",
        "  print(\"hot\")\n",
        "else:\n",
        "  print(\"not hot\")"
      ],
      "metadata": {
        "colab": {
          "base_uri": "https://localhost:8080/"
        },
        "id": "VJSJJO_qc4Su",
        "outputId": "8a1e171f-614e-4224-d940-e010a7de1465"
      },
      "execution_count": 10,
      "outputs": [
        {
          "output_type": "stream",
          "name": "stdout",
          "text": [
            "hot\n"
          ]
        }
      ]
    },
    {
      "cell_type": "code",
      "source": [
        "temperature = 30\n",
        "\n",
        "if temperature != 30:\n",
        "  print(\"hot\")\n",
        "else:\n",
        "  print(\"not hot\")"
      ],
      "metadata": {
        "colab": {
          "base_uri": "https://localhost:8080/"
        },
        "id": "seGhazfndZZL",
        "outputId": "4f83d219-2bcf-4af0-d41e-c5037a415cd2"
      },
      "execution_count": 11,
      "outputs": [
        {
          "output_type": "stream",
          "name": "stdout",
          "text": [
            "not hot\n"
          ]
        }
      ]
    },
    {
      "cell_type": "code",
      "source": [
        "name = \"John Smith\"\n",
        "name_len = int(len(name))\n",
        "\n",
        "if name_len < 3:\n",
        "  print(\"at least 3 characters\")\n",
        "elif name_len > 50:\n",
        "  print(\"maximum of 50 characters\")\n",
        "else:\n",
        "  print(\"good name\")"
      ],
      "metadata": {
        "colab": {
          "base_uri": "https://localhost:8080/"
        },
        "id": "EAhbvPdaduC5",
        "outputId": "f6a6d64d-50d6-4b01-f7af-b8ce045044b1"
      },
      "execution_count": 20,
      "outputs": [
        {
          "output_type": "stream",
          "name": "stdout",
          "text": [
            "good name\n"
          ]
        }
      ]
    },
    {
      "cell_type": "code",
      "source": [
        "weight = int(input(\"weight:\"))\n",
        "unit = input(\"(L)bs or (K)g\")\n",
        "\n",
        "if unit.upper() == \"L\":\n",
        "  converted = weight*0.45\n",
        "  print(f\"you are {converted} kilos\")\n",
        "else:\n",
        "  converted = weight / 0.45\n",
        "  print(f\"you are {converted} pounds\")"
      ],
      "metadata": {
        "colab": {
          "base_uri": "https://localhost:8080/"
        },
        "id": "JaiQ_1MofPzJ",
        "outputId": "e21eb18e-671d-4874-dfde-9aadcc0d3091"
      },
      "execution_count": 31,
      "outputs": [
        {
          "output_type": "stream",
          "name": "stdout",
          "text": [
            "weight:50\n",
            "(L)bs or (K)gk\n",
            "you are 111.11111111111111 pounds\n"
          ]
        }
      ]
    },
    {
      "cell_type": "code",
      "source": [
        "i = 1\n",
        "\n",
        "while i <= 5:\n",
        "  print(i)\n",
        "  i += 1\n",
        "print(\"done\")"
      ],
      "metadata": {
        "colab": {
          "base_uri": "https://localhost:8080/"
        },
        "id": "R4loWJXji1Ba",
        "outputId": "cb5837e0-4c0f-4c45-dbf4-e1298e7dab16"
      },
      "execution_count": 32,
      "outputs": [
        {
          "output_type": "stream",
          "name": "stdout",
          "text": [
            "1\n",
            "2\n",
            "3\n",
            "4\n",
            "5\n",
            "done\n"
          ]
        }
      ]
    },
    {
      "cell_type": "code",
      "source": [
        "i = 1\n",
        "\n",
        "while i <= 5:\n",
        "  print(\"*\"*i)\n",
        "  i += 1\n",
        "print(\"done\")"
      ],
      "metadata": {
        "colab": {
          "base_uri": "https://localhost:8080/"
        },
        "id": "eYYarMgJpd7F",
        "outputId": "b073d5b5-9274-47d9-9163-decdfad0eed9"
      },
      "execution_count": 33,
      "outputs": [
        {
          "output_type": "stream",
          "name": "stdout",
          "text": [
            "*\n",
            "**\n",
            "***\n",
            "****\n",
            "*****\n",
            "done\n"
          ]
        }
      ]
    },
    {
      "cell_type": "code",
      "source": [
        "secret_number = 9\n",
        "guess_count = 0\n",
        "guess_limit = 3\n",
        "\n",
        "while guess_count < guess_limit:\n",
        "  guess = int(input(\"guess:\"))\n",
        "  guess_count += 1\n",
        "  if guess == secret_number:\n",
        "    print(\"you win\")\n",
        "    break\n",
        "else:\n",
        "    print(\"you fail\")"
      ],
      "metadata": {
        "colab": {
          "base_uri": "https://localhost:8080/"
        },
        "id": "eleRmterpxNF",
        "outputId": "dba5231d-c4c2-41ca-9f76-0d230e0344fa"
      },
      "execution_count": 40,
      "outputs": [
        {
          "output_type": "stream",
          "name": "stdout",
          "text": [
            "guess:5\n",
            "guess:1\n",
            "guess:6\n",
            "you fail\n"
          ]
        }
      ]
    },
    {
      "cell_type": "code",
      "source": [
        "condition = input(\">\")\n",
        "\n",
        "if condition == \"start\":\n",
        "  print(\"ready to go!\")\n",
        "elif condition == \"stop\":\n",
        "  print(\"car stopped\")\n",
        "elif condition == \"stop\":\n",
        "  print(\"\")\n",
        "elif condition != \"quit\":\n",
        "  print(\"i dont understand\")"
      ],
      "metadata": {
        "colab": {
          "base_uri": "https://localhost:8080/"
        },
        "id": "dS6xiDQJwEXD",
        "outputId": "f4d45ceb-83bc-42cd-8277-bfe24c8ff7c4"
      },
      "execution_count": 59,
      "outputs": [
        {
          "name": "stdout",
          "output_type": "stream",
          "text": [
            ">quit\n"
          ]
        }
      ]
    },
    {
      "cell_type": "code",
      "source": [
        "command = \"\"\n",
        "\n",
        "while True:\n",
        "  command = input(\">\")\n",
        "  if command.lower() == \"start\":\n",
        "    print(\"car started\")\n",
        "  elif command.lower() == \"stop\":\n",
        "    print(\"car stopped\")\n",
        "  elif command.lower() == \"help\":\n",
        "    print(\"\"\"\n",
        "start - to start the car\n",
        "stop - to stop the car\n",
        "quit - to quit\n",
        "    \"\"\")\n",
        "  elif command.lower() == \"quit\":\n",
        "    break\n",
        "  else:\n",
        "    print(\"i dont understand\")"
      ],
      "metadata": {
        "colab": {
          "base_uri": "https://localhost:8080/"
        },
        "id": "goFx762pwEwk",
        "outputId": "2fc3eb10-a004-4964-a17f-3ea067c1b96a"
      },
      "execution_count": 64,
      "outputs": [
        {
          "name": "stdout",
          "output_type": "stream",
          "text": [
            ">help\n",
            "\n",
            "start - to start the car\n",
            "stop - to stop the car\n",
            "quit - to quit\n",
            "    \n",
            ">quit\n"
          ]
        }
      ]
    },
    {
      "cell_type": "code",
      "source": [
        "command = \"\"\n",
        "started = False\n",
        "\n",
        "while True:\n",
        "  command = input(\">\")\n",
        "  if command.lower() == \"start\":\n",
        "    if started:\n",
        "      print(\"car is already started\")\n",
        "    else:\n",
        "        started = True\n",
        "        print(\"car started\")\n",
        "  elif command.lower() == \"stop\":\n",
        "    if not started:\n",
        "      print(\"car is already stopped!\")\n",
        "    else:\n",
        "      started = False\n",
        "      print(\"car stopped\")\n",
        "  elif command.lower() == \"help\":\n",
        "    print(\"\"\"\n",
        "start - to start the car\n",
        "stop - to stop the car\n",
        "quit - to quit\n",
        "    \"\"\")\n",
        "  elif command.lower() == \"quit\":\n",
        "    break\n",
        "  else:\n",
        "    print(\"i dont understand\")"
      ],
      "metadata": {
        "colab": {
          "base_uri": "https://localhost:8080/"
        },
        "id": "lMK4pADMz2oz",
        "outputId": "9d900ba0-0415-4e54-ee78-14e3cff01e98"
      },
      "execution_count": 66,
      "outputs": [
        {
          "name": "stdout",
          "output_type": "stream",
          "text": [
            ">stop\n",
            "car is already stopped!\n",
            ">start\n",
            "car started\n",
            ">start\n",
            "car is already started\n",
            ">stop\n",
            "car stopped\n",
            ">stop\n",
            "car is already stopped!\n",
            ">help\n",
            "\n",
            "start - to start the car\n",
            "stop - to stop the car\n",
            "quit - to quit\n",
            "    \n",
            ">quit\n"
          ]
        }
      ]
    },
    {
      "cell_type": "code",
      "source": [
        ""
      ],
      "metadata": {
        "id": "Vpyuvm721-uj"
      },
      "execution_count": null,
      "outputs": []
    }
  ]
}